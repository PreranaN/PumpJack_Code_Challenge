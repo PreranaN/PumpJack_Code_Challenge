{
 "cells": [
  {
   "cell_type": "markdown",
   "metadata": {},
   "source": [
    "### Imporing necessary libraries"
   ]
  },
  {
   "cell_type": "code",
   "execution_count": 1,
   "metadata": {},
   "outputs": [],
   "source": [
    "import csv\n",
    "import sqlite3"
   ]
  },
  {
   "cell_type": "markdown",
   "metadata": {},
   "source": [
    "### Creating Employee and Department tables"
   ]
  },
  {
   "cell_type": "code",
   "execution_count": 2,
   "metadata": {},
   "outputs": [
    {
     "data": {
      "text/plain": [
       "<sqlite3.Cursor at 0x103dc72d0>"
      ]
     },
     "execution_count": 2,
     "metadata": {},
     "output_type": "execute_result"
    }
   ],
   "source": [
    "con = sqlite3.connect(\"/Users/vivekvanahalli/Desktop/testdb.db\") \n",
    "cur = con.cursor()\n",
    "cur.execute(\"CREATE TABLE employee (id integer PRIMARY KEY autoincrement, first_name VARCHAR(50), last_name VARCHAR(50), salary integer, department_name VARCHAR(50), department_id integer, FOREIGN KEY (department_id) REFERENCES department(id));\")\n",
    "cur.execute(\"CREATE TABLE department (id integer PRIMARY KEY autoincrement, name VARCHAR(50), salary_increment REAL);\")"
   ]
  },
  {
   "cell_type": "markdown",
   "metadata": {},
   "source": [
    "### Insering values in Department table"
   ]
  },
  {
   "cell_type": "code",
   "execution_count": 3,
   "metadata": {},
   "outputs": [
    {
     "name": "stdout",
     "output_type": "stream",
     "text": [
      "[(1, 'Finance', 10.0), (2, 'IT', 15.0), (3, 'Sales', 17.0), (4, 'Marketing', 16.0)]\n"
     ]
    }
   ],
   "source": [
    "cur.execute('INSERT INTO department (name, salary_increment) VALUES(\"Finance\",10), (\"IT\",15), (\"Sales\",17), (\"Marketing\",16);')\n",
    "con.commit()\n",
    "cur.execute(\"select * from department;\")\n",
    "print(cur.fetchall())"
   ]
  },
  {
   "cell_type": "markdown",
   "metadata": {},
   "source": [
    "### Insering values in Employee table"
   ]
  },
  {
   "cell_type": "code",
   "execution_count": 4,
   "metadata": {},
   "outputs": [
    {
     "name": "stdout",
     "output_type": "stream",
     "text": [
      "[(1, 'Darius', 'Mufutau', 3901, 'Finance', None), (2, 'Tiger', 'Elliott', 5489, 'IT', None), (3, 'Malik', 'Macaulay', 5444, 'Sales', None), (4, 'Ali', 'Vance', 8993, 'Marketing', None), (5, 'Randall', 'Deacon', 9515, 'IT', None), (6, 'Josiah', 'Lee', 8113, 'Sales', None), (7, 'Dante', 'Mohammad', 8446, 'Sales', None), (8, 'Wyatt', 'Kuame', 4817, 'Marketing', None), (9, 'Quinn', 'Oliver', 5513, 'Finance', None), (10, 'Oliver', 'Gary', 5158, 'IT', None), (11, 'Thane', 'Phelan', 4957, 'Sales', None), (12, 'Walter', 'Lester', 3864, 'Finance', None), (13, 'Samson', 'Dolan', 6855, 'IT', None), (14, 'Beck', 'Walker', 7077, 'Sales', None), (15, 'Lucas', 'Marshall', 7499, 'Marketing', None), (16, 'John', 'Nash', 4269, 'IT', None), (17, 'Quinlan', 'Elliott', 7503, 'Sales', None), (18, 'Ivan', 'Dennis', 4048, 'Sales', None), (19, 'Wang', 'Ronan', 9319, 'Marketing', None), (20, 'Stone', 'Jameson', 9354, 'Finance', None), (21, 'Clayton', 'Jarrod', 4102, 'IT', None), (22, 'Cain', 'Sean', 7353, 'Sales', None)]\n"
     ]
    }
   ],
   "source": [
    "#Loading data from flat_data.csv\n",
    "with open('/Users/vivekvanahalli/Desktop/My Desktop/flat_data.csv','r') as flatdata:\n",
    "    dr = csv.DictReader(flatdata) # comma is default delimiter\n",
    "    to_db = [(i['first_name'], i['last_name'],i['salary'],i['dept_name']) for i in dr]\n",
    "\n",
    "cur.executemany(\"INSERT INTO employee (first_name, last_name, salary, department_name) VALUES (?,?,?,?);\", to_db)\n",
    "con.commit()\n",
    "cur.execute(\"select * from employee;\")\n",
    "print(cur.fetchall())"
   ]
  },
  {
   "cell_type": "markdown",
   "metadata": {},
   "source": [
    "#### Updating the department id in Employee table with values from Department table"
   ]
  },
  {
   "cell_type": "code",
   "execution_count": 5,
   "metadata": {},
   "outputs": [
    {
     "name": "stdout",
     "output_type": "stream",
     "text": [
      "[(1, 'Darius', 'Mufutau', 3901, 'Finance', 1), (2, 'Tiger', 'Elliott', 5489, 'IT', 2), (3, 'Malik', 'Macaulay', 5444, 'Sales', 3), (4, 'Ali', 'Vance', 8993, 'Marketing', 4), (5, 'Randall', 'Deacon', 9515, 'IT', 2), (6, 'Josiah', 'Lee', 8113, 'Sales', 3), (7, 'Dante', 'Mohammad', 8446, 'Sales', 3), (8, 'Wyatt', 'Kuame', 4817, 'Marketing', 4), (9, 'Quinn', 'Oliver', 5513, 'Finance', 1), (10, 'Oliver', 'Gary', 5158, 'IT', 2), (11, 'Thane', 'Phelan', 4957, 'Sales', 3), (12, 'Walter', 'Lester', 3864, 'Finance', 1), (13, 'Samson', 'Dolan', 6855, 'IT', 2), (14, 'Beck', 'Walker', 7077, 'Sales', 3), (15, 'Lucas', 'Marshall', 7499, 'Marketing', 4), (16, 'John', 'Nash', 4269, 'IT', 2), (17, 'Quinlan', 'Elliott', 7503, 'Sales', 3), (18, 'Ivan', 'Dennis', 4048, 'Sales', 3), (19, 'Wang', 'Ronan', 9319, 'Marketing', 4), (20, 'Stone', 'Jameson', 9354, 'Finance', 1), (21, 'Clayton', 'Jarrod', 4102, 'IT', 2), (22, 'Cain', 'Sean', 7353, 'Sales', 3)]\n"
     ]
    }
   ],
   "source": [
    "cur.execute(\"UPDATE employee SET department_id = (SELECT department.id from department WHERE employee.department_name=department.name);\")\n",
    "con.commit()\n",
    "cur.execute(\"select * from employee;\")\n",
    "print(cur.fetchall())"
   ]
  },
  {
   "cell_type": "markdown",
   "metadata": {},
   "source": [
    "### Creating a new table updated_salaries and populating it with employee id and their updated salaries (with increment)"
   ]
  },
  {
   "cell_type": "code",
   "execution_count": 6,
   "metadata": {},
   "outputs": [
    {
     "name": "stdout",
     "output_type": "stream",
     "text": [
      "[(1, 4291.1), (2, 6312.35), (3, 6369.48), (4, 10431.880000000001), (5, 10942.25), (6, 9492.21), (7, 9881.82), (8, 5587.72), (9, 6064.3), (10, 5931.7), (11, 5799.6900000000005), (12, 4250.4), (13, 7883.25), (14, 8280.09), (15, 8698.84), (16, 4909.35), (17, 8778.51), (18, 4736.16), (19, 10810.04), (20, 10289.4), (21, 4717.3), (22, 8603.01)]\n"
     ]
    }
   ],
   "source": [
    "cur.execute(\"CREATE TABLE updated_salaries (employee_id integer PRIMARY KEY, updated_salary REAL);\")\n",
    "cur.execute(\"INSERT INTO updated_salaries select e.id, (e.salary+(e.salary*(d.salary_increment/100))) from employee e JOIN department d WHERE e.department_id = d.id;\")\n",
    "con.commit()\n",
    "cur.execute(\"SELECT * FROM updated_salaries;\")\n",
    "print(cur.fetchall())\n",
    "con.close()"
   ]
  },
  {
   "cell_type": "code",
   "execution_count": null,
   "metadata": {},
   "outputs": [],
   "source": []
  }
 ],
 "metadata": {
  "kernelspec": {
   "display_name": "Python 3",
   "language": "python",
   "name": "python3"
  },
  "language_info": {
   "codemirror_mode": {
    "name": "ipython",
    "version": 3
   },
   "file_extension": ".py",
   "mimetype": "text/x-python",
   "name": "python",
   "nbconvert_exporter": "python",
   "pygments_lexer": "ipython3",
   "version": "3.7.6"
  }
 },
 "nbformat": 4,
 "nbformat_minor": 4
}
